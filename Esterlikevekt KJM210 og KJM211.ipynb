{
 "cells": [
  {
   "cell_type": "markdown",
   "metadata": {},
   "source": [
    "# Esterdannelse - kjemiske likevekt for reaksjon mellom en alkohol og en karboksylsyre"
   ]
  },
  {
   "cell_type": "markdown",
   "metadata": {},
   "source": [
    "# Bakgrunn\n",
    "\n",
    "Å sette tall på hva som skjer i en kjemisk reaksjon brukes hver dag for å optimalisere prosesser både i forskningslaboratoriet og i industrien. Det er lett å tenke seg at kjemiske prosesser skal skje kontrollert og gi gode utbytter. En ting er å forstå en enkel reaksjon med få reaktanter og produkter. Men hvordan skal du angripe problemer der det er mange reaktanter, intermediater og produkter involvert, og hvor flere serielle og parallelle reaksjoner skjer samtidig? Da kan vi få god hjelp av modellering.\n",
    "Et viktig utrykk i kjemien er likevekten mellom de forskjellige stoffene som er involvert i reaksjonen. For den enkle reaksjonen\n",
    "$$ A \\rightleftharpoons B $$\n",
    "\n",
    "Når vi har satt opp en korrekt likevekt åpner nye muligheter seg. Kjenner vi likevektskonstanten for reaksjonen så kan vi beregne utbytter, vi kan se på hva mengdeforhold mellom reagenser og substrater betyr og vi kan sette opp en reaksjon slik at den gir maksimalt utbytte og se på hva som er billigst ved å se på prisen på kjemikaliene."
   ]
  },
  {
   "cell_type": "markdown",
   "metadata": {},
   "source": [
    "Et viktig utrykk i kjemien er likevekten mellom de forskjellige stoffene som er involvert i reaksjonen. For den enkle reaksjonen \n",
    "\n",
    "$$ A \\rightleftharpoons B $$\n",
    "\n",
    "er likevekten beskrevet som:\n",
    "\n",
    "$$K=  \\frac{[B]}{[A]} $$"
   ]
  },
  {
   "cell_type": "markdown",
   "metadata": {},
   "source": [
    "Vi skal nå se på en av de mest fundamentale likevektene i organisk kjemi - nemlig esterdannelse fra alkohol og karboksylsyre. \n",
    "    \n",
    "Dette kalles også Fischers estersyntese etter han som først studerte denne reaksjonen. Dette er en likevekt som betyr at reaksjonen vil gå begge veier. Likevektskonstanten ligger som regel litt over 1, men kan ligge mellom 0,1 og 10. Det betyr at når vi blander like mengder av alkohol og syre så ender vi opp med mye ureagert stoff. Dette betyr at vi kan sette opp et matematisk uttrykk for denne likevekten og så se på hvordan størrelsen på likevektskonstanten kan påvirke utbyttet av reaksjonen. Men likevektskonstanten kan vi ikke påvirke - den er som navnet sier, en konstant for hver enkelt reaksjon. Men vi kan påvirke reaksjonen på andre måter. Vi kan f. eks. tilsette mer av det ene substratet i forhold til det andre. Så la oss se på dette. Først setter vi opp likevekten:\n",
    "\n",
    "For ester-likevekten setter vi opp:\n",
    "\n",
    "$$ RCOOH + R'OH \\rightleftharpoons RCOOR' + H_2O $$\n",
    "\n",
    "Dette gir følgende uttrykk for likevekten:\n",
    "\n",
    "\n",
    "$$K=  \\frac{[RCOOR'][H_2O]}{[RCOOH][R'OH]} $$\n",
    "\n",
    "\n",
    "La oss nå se mer detaljert på likevekten. Ved start er det kun utgangsmaterialet vi har tilstede. Ved oppnådd likevekt er det noe av utgangsmaterialet som har reagert til produkt. Når vi kjenner støkiometrien (ett molekyl av syra reagerer med ett molekyl av alkoholen og gir ett molekyl av esteren og ett molekyl vann). Vi skriver da at vi starter med a mol karboksylsyre og b mol av alkoholen. Ved likevekt dannes $x$ mol av esteren (og vannet) og da har vi $(a-x)$ mol av syra og $(b-x)$ mol av alkoholen:\n",
    "\n",
    "$$ RCOOH + R'OH \\rightleftharpoons RCOOR' + H_2O $$\n",
    "$\\quad \\quad \\quad \\quad \\quad \\quad \\quad \\quad \\quad \\quad \\quad \\quad \\quad \\quad Start: \\quad \\quad a \\quad \\quad \\quad \\quad b \\quad \\quad \\quad \\quad 0 \\quad \\quad \\quad \\quad 0$\n",
    "$\\quad \\quad \\quad \\quad \\quad \\quad \\quad \\quad \\quad \\quad \\quad \\quad \\quad Likevekt: \\quad a-x \\quad \\quad \\quad b-x \\quad \\quad x \\quad \\quad \\quad \\quad x $"
   ]
  },
  {
   "cell_type": "markdown",
   "metadata": {},
   "source": [
    "Vi kan nå sette opp følgende ligning for likevekten:\n",
    "\n",
    "$$K= \\frac{(x \\cdot x)}{(a - x)(b - x)} $$"
   ]
  },
  {
   "cell_type": "markdown",
   "metadata": {},
   "source": [
    "<div class=\"alert alert-block alert-info\">\n",
    "\n",
    "### Oppgave\n",
    "\n",
    "a) Organiser uttrykket over slik at vi får det på formen $ax^2 + bx + c = 0$.\n",
    "\n",
    "b) Bruk abc-formelen til å sette opp løsningsuttrykket."
   ]
  },
  {
   "cell_type": "markdown",
   "metadata": {},
   "source": [
    "<div class=\"alert alert-block alert-danger\">\n",
    "\n",
    "### Løsning\n",
    "\n",
    "$$ K(a-x)(b-x) = x^2 $$\n",
    "\n",
    "$$ K(ab-ax-bx+x^2) = x^2 $$\n",
    "\n",
    "$$ Kab-Kax-Kbx+Kx^2 = x^2 $$\n",
    "\n",
    "$$ -x^2+Kx^2 - Kax - Kbx + Kab = 0 $$\n",
    "\n",
    "$$ x^2(K - 1) - xK(a + b) + Kab = 0 $$"
   ]
  },
  {
   "cell_type": "markdown",
   "metadata": {},
   "source": [
    "Vi løser dette som en 2. grads ligning. Det er bare den ene roten som er mulig (se gjerne på den andre så finner du ut hvorfor den andre rent fysisk ikke er mulig). \n",
    "\n",
    "\n",
    "$$x = \\frac{K(a + b) - \\sqrt{K^2(a + b)^2 - 4(K - 1)Kab}}{2(K - 1)}$$\n",
    "\n",
    "Nå kan vi sette tall inn i ligningen. \n",
    "\n",
    "\n"
   ]
  },
  {
   "cell_type": "markdown",
   "metadata": {},
   "source": [
    "<div class=\"alert alert-block alert-info\">\n",
    "\n",
    "### Oppgave\n",
    "\n",
    "La oss forsøke med noen typiske tall:\n",
    "\n",
    "a) Sett inn $K = 4$ og forenkl uttrykket.\n",
    "\n",
    "b) Sett inn at vi har like mye av begge stoffene, dvs. $a=b$. Hva blir svaret da?\n",
    "\n",
    "c) Sett deretter inn at vi har dobbelt så mye av stoff a som stoff b, dvs $a = 2b$. Hva blir svaret da?"
   ]
  },
  {
   "cell_type": "markdown",
   "metadata": {},
   "source": [
    "<div class=\"alert alert-block alert-danger\">\n",
    "\n",
    "### Løsning\n",
    "\n",
    "$$x = \\frac{4(a + b) - \\sqrt{4^2(a + b)^2 - 4(4 - 1)4ab}}{2(4 - 1)}$$\n",
    "\n",
    "$$x = \\frac{4a + 4b - \\sqrt{16(a^2 +2ab + b^2) - 48ab}}{6}$$\n",
    "\n",
    "$$x = \\frac{4a + 4b - \\sqrt{16a^2 + 32ab + 16b^2 - 48ab}}{6}$$\n",
    "\n",
    "$$x = \\frac{4a + 4b - \\sqrt{16a^2 -16ab + 16b^2}}{6}$$"
   ]
  },
  {
   "cell_type": "markdown",
   "metadata": {},
   "source": [
    "Merk at vi egentlig skal sette inn konsentrasjoner (uttrykt i Molar), men siden det er like mange komponenter i telleren som i nevneren så kan vi gjøre det enklere ved å forkorte bort volum og sette inn antall mol i stedet. Da kan vi f. eks. sette inn samme mengde av hver av utgangsstoffene (syra og alkoholen). Disse kaller vi a og b. Siden kan vi sette inn f. eks. dobbelt så mye av den ene i forhold til den andre. Sett da syra til det doble av alkoholen. Se så på hva det gjør med likevekten ved at du ser på hvor mye mer av produktet som dannes i forhold til det begrensede reagenset som her da er alkoholen (den det er minst av på reaktantsiden)."
   ]
  },
  {
   "cell_type": "markdown",
   "metadata": {},
   "source": [
    "### Programmering\n",
    "\n",
    "Vi skal nå lage et program som viser dette for et enkelt tilfelle. Formelen vi skal sette inn er heftig, pass på riktig bruk av parenteser her!.\n",
    "\n",
    "```python\n",
    "x = ((K * (a + b)) - (sqrt((K**2 * (a + b)**2) - (4 * (K - 1) * K * a * b)))) / (2 * (K - 1))\n",
    "```\n",
    "\n",
    "Vi starter med å definere en del variabler:"
   ]
  },
  {
   "cell_type": "code",
   "execution_count": 26,
   "metadata": {},
   "outputs": [
    {
     "name": "stdout",
     "output_type": "stream",
     "text": [
      "Sett inn tall for likevektskonstanten (Mellom 0.1 og 10): 2\n",
      "\n",
      "Mengden ester\n",
      "0.0117 mol\n",
      "Prosent utbytte\n",
      "58.58%\n",
      "\n",
      "Mengden ester\n",
      "0.0153 mol\n",
      "Prosent utbytte\n",
      "76.39%\n",
      "\n",
      "Mengden ester\n",
      "0.0168 mol\n",
      "Prosent utbytte\n",
      "83.77%\n",
      "\n",
      "Mengden ester\n",
      "0.0175 mol\n",
      "Prosent utbytte\n",
      "87.69%\n",
      "\n",
      "Mengden ester\n",
      "0.018 mol\n",
      "Prosent utbytte\n",
      "90.1%\n",
      "\n",
      "Mengden ester\n",
      "0.0183 mol\n",
      "Prosent utbytte\n",
      "91.72%\n",
      "\n",
      "Mengden ester\n",
      "0.0186 mol\n",
      "Prosent utbytte\n",
      "92.89%\n",
      "\n",
      "Mengden ester\n",
      "0.0188 mol\n",
      "Prosent utbytte\n",
      "93.77%\n",
      "\n",
      "Mengden ester\n",
      "0.0189 mol\n",
      "Prosent utbytte\n",
      "94.46%\n",
      "\n",
      "Mengden ester\n",
      "0.019 mol\n",
      "Prosent utbytte\n",
      "95.01%\n"
     ]
    },
    {
     "data": {
      "image/png": "[encoded data removed]",
      "text/plain": [
       "<Figure size 432x288 with 1 Axes>"
      ]
     },
     "metadata": {
      "needs_background": "light"
     },
     "output_type": "display_data"
    }
   ],
   "source": [
    "from math import sqrt                              # Importerer kvadratrot\n",
    "import matplotlib.pyplot as plt                    # Importerer bibliotek for plotting av graf\n",
    "\n",
    "yresult = []                                       # Tom liste for y-verdiene (prosent)\n",
    "z = []                                             # Tom liste for z (mengde)\n",
    "K = float(input(\"Sett inn tall for likevektskonstanten (Mellom 0.1 og 10): \")) \n",
    "a = 0.02\n",
    "b = 0.02\n",
    "while a <= 0.2:\n",
    "  x = ((K * (a + b)) - (sqrt((K**2 * (a + b)**2) - (4 * (K - 1) * K * a * b)))) / (2 * (K - 1))\n",
    "  print(\"\\nMengden ester\")                         # Husk at begrensende reagens bestemmer maks mengde\n",
    "  print(f\"{round(x, 4)} mol\")\n",
    "  percentage = (x / 0.02) * 100                    # x er maks mengde produkt mens 0.02 er teoretisk utbytte\n",
    "  print(\"Prosent utbytte\")\n",
    "  print(f\"{round(percentage, 2)}%\")                # Dette er % utbytte du faktisk får\n",
    "  yresult.append(percentage)                       # Legger prosenten til i listen\n",
    "  z.append(a)                                      # Legger molmengden til i listen\n",
    "  a += 0.02                                        # Øker molmengden til stoff a med 0.02\n",
    "\n",
    "plt.plot(z,yresult,marker = '*')\n",
    "plt.xlabel('Mengde av utgangstoffet a')\n",
    "plt.ylabel('Prosent')\n",
    "plt.ylim([20, 100])\n",
    "plt.show()"
   ]
  },
  {
   "cell_type": "markdown",
   "metadata": {},
   "source": [
    "Tilslutt plotter vi grafen over utregningene."
   ]
  },
  {
   "cell_type": "markdown",
   "metadata": {},
   "source": [
    "<div class=\"alert alert-block alert-info\">\n",
    "\n",
    "### Oppgave\n",
    "\n",
    "Lage en/flere utforskingsoppgave(r) her der vi leker litt med koden og deretter tolker resultatet med bakgrunn i fagkjemien?"
   ]
  }
 ],
 "metadata": {
  "kernelspec": {
   "display_name": "Python 3 (ipykernel)",
   "language": "python",
   "name": "python3"
  },
  "language_info": {
   "codemirror_mode": {
    "name": "ipython",
    "version": 3
   },
   "file_extension": ".py",
   "mimetype": "text/x-python",
   "name": "python",
   "nbconvert_exporter": "python",
   "pygments_lexer": "ipython3",
   "version": "3.9.7"
  }
 },
 "nbformat": 4,
 "nbformat_minor": 4
}
