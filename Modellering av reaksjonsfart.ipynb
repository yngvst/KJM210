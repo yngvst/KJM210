{
 "cells": [
  {
   "cell_type": "markdown",
   "metadata": {},
   "source": [
    "# Modellering av reaksjonsfart i kjemiske reaksjoner"
   ]
  },
  {
   "cell_type": "markdown",
   "metadata": {},
   "source": [
    "## Bakgrunn\n",
    "\n",
    "Når vi beskriver kjemiske reaksjoner med tall åpner det seg en ny verden. Plutselig kan vi sammenligne kjemiske reaksjoner og forutsi hva som skjer når vi blander sammen reagenser. \n",
    "\n",
    "Å sette tall på hva som skjer i en kjemisk reaksjon brukes hver dag for å optimalisere prosesser både i forskningslaboratoriet og i industrien. Det er lett å tenke seg at kjemiske prosesser skal skje kontrollert og gi gode utbytter. En ting er å forstå en enkel reaksjon med få reaktanter og produkter. Men hvordan skal du angripe problemer der det er mange reaktanter, intermediater og produkter involvert, og hvor flere serielle og parallelle reaksjoner skjer samtidig? Da kan vi få god hjelp av modellering.\n",
    "\n",
    "Et viktig utrykk i kjemien er likevekten mellom de forskjellige stoffene som er involvert i reaksjonen. For den enkle reaksjonen \n",
    "\n",
    "$$ A \\rightleftharpoons B $$\n",
    "\n",
    "er likevekten beskrevet som:\n",
    "\n",
    "$$K=  \\frac{[B]}{[A]} $$\n",
    "\n",
    "Både A og B er løselige i vann. Pilene i det første utrykket forteller oss noe om hvilken retning reaksjonen går. I dette tilfellet, der vi har en reversibel likevekt, går reaksjonen i begge retninger. Når vi kjenner likevektkonstanten K kan vi for eksempel forutsi hvor mye A og B det finnes i løsningen vår når vi løser en bestemt mengde A i vann. Men, vi vet ingenting om når A og B vil være i likevekt. Det kan ta millisekunder eller tusenvis av år. For å bruke kjemi til noe fornuftig må vi altså vite noe om hvor fort reaksjoner går. Dette omtales ofte som kinetikken til reaksjoner.\n",
    "\n",
    "Det var Guldberg og Waage som for over 100 år siden presenterte massevirkningsloven. Den moderne versjonen brukes for å beskrive hva som skjer med kjemiske reaksjoner over tid.\n",
    "Vi starter med et enkelt eksempel:\n",
    "\n",
    "$$A \\xrightarrow{k} B$$ \n",
    "\n",
    "Merk at dette er ikke en likevekt (pilen peker en retning) men en irreversibel reaksjon. Bokstaven k er hastighetskonstanten til reaksjonen. I Kjemi I læreboken defineres:\n",
    "\n",
    "$$ \\text{reaksjonsfart} =  \\frac{\\text{endring av stoffmengdekonsentrasjon}}{\\text{tid}} $$\n",
    "\n",
    "Dette kan forkortes til\n",
    "\n",
    "$$ r=  \\frac{d[A]}{dt} $$\n",
    "\n",
    "der r er reaksjonshastigheten og [A] er stoffmengdekonsentrasjon. Hastigheten av reaksjonen avhenger av stoffmengdekonsentrasjonen(e) til utgangsstoffet (utgangsstoffene) og er gitt ved differensialligningen:\n",
    "\n",
    "$$ r=  \\frac{d[A]}{dt} = -k[A] = k[B] $$\n",
    "\n",
    "Ofte brukes det fiks ferdig integrerte hastighetslover når man analyserer enkle reaksjoner. I dette tilfellet er den integrerte loven:\n",
    "\n",
    "$$ [A]=[A]_0 \\cdot e^{-kt} $$\n",
    "\n",
    "I dette kurset skal dere bruke numerisk løsning av differensialligninger til å visualisere hvordan konsentrasjonene av de forskjellige stoffmengdene endrer seg over tid gjennom en kjemisk reaksjon. Dette er en generell tilnærming som er veldig kraftfull spesielt i tilfeller der det foregår flere reaksjoner samtidig.\n"
   ]
  },
  {
   "cell_type": "markdown",
   "metadata": {},
   "source": [
    "### Programmering\n",
    "\n",
    "Vi skal nå lage et program som viser dette for et enkelt tilfelle. Starter med å definere en del variabler."
   ]
  },
  {
   "cell_type": "code",
   "execution_count": 1,
   "metadata": {},
   "outputs": [],
   "source": [
    "from pylab import *\n",
    "\n",
    "N = 100              # Antall iterasjoner vi regner over\n",
    "start = 0            # Startpunkt\n",
    "slutt = 5            # Sluttpunkt\n",
    "k = 1.0              # Hastighetskonstanten\n",
    "Ca = [1]             # Start konsentrajsonen til mengde A\n",
    "Cb = [0.3]             # Start konsentrajsonen til mengde B\n",
    "\n",
    "dt = (slutt - start) / N                   # Tidsstegene\n",
    "tid = linspace(start, slutt, N)            # Lager x-aksen"
   ]
  },
  {
   "cell_type": "markdown",
   "metadata": {},
   "source": [
    "Deretter kjører vi numerisk metode for å finne neste kosentrasjon. Dette gjør vi ved formelen:\n",
    "\n",
    "$$ C_{n+1} = C_n + k\\cdot C_n\\cdot dt $$\n",
    "\n",
    "der $k$ kan være positiv eller negativ avhengig av startkonsentrasjonen øker eller minker."
   ]
  },
  {
   "cell_type": "code",
   "execution_count": 2,
   "metadata": {},
   "outputs": [],
   "source": [
    "for i in range(N-1):                         # Regner numerisk konsentrasjonsendringene over antallet interasjoner\n",
    "    Ca.append(Ca[i] - k * Ca[i] *dt)       # Ny konsentrajson for mengde A\n",
    "    Cb.append(Cb[i] + k * Ca[i] *dt)       # Ny konsentrajson for mengde B"
   ]
  },
  {
   "cell_type": "markdown",
   "metadata": {},
   "source": [
    "Tilslutt plotter vi grafen over utregningene."
   ]
  },
  {
   "cell_type": "code",
   "execution_count": 18,
   "metadata": {},
   "outputs": [
    {
     "data": {
      "text/plain": [
       "Text(0, 0.5, 'Konsentrasjon(M)')"
      ]
     },
     "execution_count": 18,
     "metadata": {},
     "output_type": "execute_result"
    },
    {
     "data": {
      "image/png": "[encoded data removed]",
      "text/plain": [
       "<Figure size 432x288 with 1 Axes>"
      ]
     },
     "metadata": {
      "needs_background": "light"
     },
     "output_type": "display_data"
    }
   ],
   "source": [
    "plot(tid,Ca,'r')                         # Plotter for mengde A\n",
    "plot(tid,Cb,'b')                         # Plotter for mengde B\n",
    "legend(['$C_A$','$C_B$'])                  # Setter navn på hver linje i plottet\n",
    "\n",
    "xlabel('Tid (sekunder)')                   # Navn på x-akse\n",
    "ylabel('Konsentrasjon(M)')                 # Navn på y-akse"
   ]
  },
  {
   "cell_type": "markdown",
   "metadata": {},
   "source": [
    "### Oppgave 1\n",
    "\n",
    "a) **Hva skjer for forskjellige verdier av $k$? Prøv med $k = 0.1 s^{-1}$, $1 s^{-1}$, og $100 s^{-1}$. Hvordan endrer plottet seg med de forskjellige hastighetskonstantene?**\n",
    "\n",
    "b) **Hva skjer når du velger $k = 1 s^{-1}$ og varierer startkonsentrasjonen av $A$? Prøv med $[A] = 0.1 M$, $1 M$ og $10 M$. <font color = \"red\">NB! Følg med på skalaen på y-aksen.<font>**"
   ]
  },
  {
   "cell_type": "markdown",
   "metadata": {},
   "source": [
    "## Reversibel reaksjon\n",
    "\n",
    "I forrige oppgave jobbet dere med en irreversibel reaksjon. Hva skjer når reaksjonen som gjør om A til B er reversibel? Denne reaksjonen skrives som:\n",
    "\n",
    "$$ A \\mathrel{\\mathop{\\rightleftarrows}^{\\mathrm{k_f}}_{\\mathrm{k_r}}} B $$ \n",
    "\n",
    "Dette er en klassisk likevekt der likevektskonstanten er gitt ved:\n",
    "\n",
    "$$ K=  \\frac{k_f}{k_r} $$\n",
    "\n",
    "Fra dette utrykket blir det klart at tiden det tar før likevekten innstiller seg ikke avhenger av selve likevektskonstanten $K$, men på størrelsen av $k_f$ og $k_r$.\n",
    "\n",
    "Når vi setter opp en hastighetslov ser vi alltid på det eller de stoffene som blir brukt opp. I oppgave 1 var det kun $A$ som ble brukt opp, og vi ble sittende igjen med kun:\n",
    "\n",
    "$$ \\frac{d[A]}{dt} = -k[A] $$\n",
    " \n",
    "Det negative fortegnet foran k er der fordi stoffmengden av A minker i løpet av reaksjonen. I dette tilfellet, der reaksjonen mellom A og B er reversibel, trenger vi differensialligninger for både endringen av både A og B:\n",
    "\n",
    "$$ \\frac{d[A]}{dt} = -k_f [A] + k_r [B] $$\n",
    "\n",
    "$$ \\frac{d[B]}{dt} = k_f [A] - k_r [B] $$"
   ]
  },
  {
   "cell_type": "markdown",
   "metadata": {},
   "source": [
    "### Oppgave 2\n",
    "\n",
    "**Utvid programmet til plotte endringen i konsentrasjonen til både A og B ved en reversibel reaksjon. Merk at det er kun ``for``-løkken og en variabel vi behøver å endre/legge til.**\n",
    "\n",
    "<br>\n",
    "<br>\n",
    "<br>\n",
    "\n",
    "Se under for eksempel på kode\n",
    "\n",
    "<br>\n",
    "<br>\n",
    "<br>\n",
    "<br>\n",
    "<br>\n",
    "<br>\n",
    "<br>\n",
    "<br>\n",
    "<br>\n",
    "<br>\n",
    "<br>\n",
    "<br>"
   ]
  },
  {
   "cell_type": "code",
   "execution_count": 4,
   "metadata": {},
   "outputs": [
    {
     "data": {
      "text/plain": [
       "Text(0, 0.5, 'Konsentrasjon(M)')"
      ]
     },
     "execution_count": 4,
     "metadata": {},
     "output_type": "execute_result"
    },
    {
     "data": {
      "image/png": "[encoded data removed]",
      "text/plain": [
       "<Figure size 432x288 with 1 Axes>"
      ]
     },
     "metadata": {
      "needs_background": "light"
     },
     "output_type": "display_data"
    }
   ],
   "source": [
    "k_f = 1.1\n",
    "k_r = 1.0            # Hastighetskonstanten\n",
    "Ca = [1]             # Start konsentrajsonen til mengde A\n",
    "Cb = [0]             # Start konsentrajsonen til mengde B\n",
    "\n",
    "for i in range(N-1):                         # Regner numerisk konsentrasjonsendringene over antallet interasjoner\n",
    "    Ca.append(Ca[i] - k_f*Ca[i]*dt + k_r*Cb[i]*dt)       # Ny konsentrajson for mengde A\n",
    "    Cb.append(Cb[i] + k_f*Ca[i]*dt - k_r*Cb[i]*dt)       # Ny konsentrajson for mengde B\n",
    "\n",
    "plot(tid,Ca,'r')                         # Plotter for mengde A\n",
    "plot(tid,Cb,'b')                         # Plotter for mengde B\n",
    "legend(['$C_A$','$C_B$'])                  # Setter navn på hver linje i plottet\n",
    "\n",
    "xlabel('Tid (sekunder)')                   # Navn på x-akse\n",
    "ylabel('Konsentrasjon(M)')                 # Navn på y-akse"
   ]
  },
  {
   "cell_type": "markdown",
   "metadata": {},
   "source": [
    "### Oppgave 3\n",
    "\n",
    "a) **Hva skjer når du prøver forskjellige verdier for $k_f$ og $k_r$? Prøv med verdier mellom $0.1 s^{-1}$ og $10 s^{-1}$. Hvordan endrer plottet seg med de forskjellige hastighetskonstantene.**\n",
    "\n",
    "b) **Hva skjer når du velger $k = 1 s^{-1}$ og varierer startkonsentrasjonene av $A$ og $B$? Prøv med $[A]$ og $[B]$ mellom $0.1 M$ og $1 M$. <font color = \"red\">NB! Følg med på skalaen på y-aksen.<font>**"
   ]
  },
  {
   "cell_type": "markdown",
   "metadata": {},
   "source": [
    "## Flere stoffer\n",
    "\n",
    "Vi skal nå se på en reaksjon som omfatter flere stoffer som reagerer og som avgir flere produkter. Den irreversible reaksjonen mellom A og B er gitt ved:\n",
    "\n",
    "$$ A + B \\xrightarrow{k} C + D $$\n",
    "\n",
    "For å beskrive denne reaksjonen trenger vi fire differensialligninger:\n",
    "\n",
    "$$ \\frac{d[A]}{dt} = -k[A][B] $$\n",
    "\n",
    "$$ \\frac{d[B]}{dt} = -k[A][B] $$\n",
    "\n",
    "$$ \\frac{d[C]}{dt} = k[A][B] $$\n",
    "\n",
    "$$ \\frac{d[D]}{dt} = k[A][B] $$"
   ]
  },
  {
   "cell_type": "markdown",
   "metadata": {},
   "source": [
    "### Oppgave 4\n",
    "\n",
    "**Utvid koden til å regne ut hvordan konsentrasjonene av $A$, $B$, $C$ og $D$ endrer seg fra 0 til 5 sekunder. Velg $k = 5 M^{-1}s^{-1}$.**\n",
    "\n",
    "<br>\n",
    "<br>\n",
    "<br>\n",
    "\n",
    "Se under for eksempel på kode\n",
    "\n",
    "<br>\n",
    "<br>\n",
    "<br>\n",
    "<br>\n",
    "<br>\n",
    "<br>\n",
    "<br>\n",
    "<br>\n",
    "<br>\n",
    "<br>\n",
    "<br>\n",
    "<br>"
   ]
  },
  {
   "cell_type": "code",
   "execution_count": null,
   "metadata": {},
   "outputs": [],
   "source": [
    "k = 1.0              # Hastighetskonstanten\n",
    "Ca = [1]             # Start konsentrajsonen til mengde A\n",
    "Cb = [1]             # Start konsentrajsonen til mengde B\n",
    "Cc = [0]             # Start konsentrajsonen til mengde C\n",
    "Cd = [0]             # Start konsentrajsonen til mengde D\n",
    "\n",
    "for i in range(N-1):                         # Regner numerisk konsentrasjonsendringene over antallet interasjoner\n",
    "    Ca.append(Ca[i] - k*Ca[i]*Cb[i]*dt)       # Ny konsentrajson for mengde A\n",
    "    Cb.append(Cb[i] - k*Ca[i]*Cb[i]*dt)       # Ny konsentrajson for mengde B\n",
    "    Cc.append(Cc[i] + k*Ca[i]*Cb[i]*dt)       # Ny konsentrajson for mengde C\n",
    "    Cd.append(Cd[i] + k*Ca[i]*Cb[i]*dt)       # Ny konsentrajson for mengde D\n",
    "\n",
    "plot(tid,Ca,'r')                         # Plotter for mengde A\n",
    "plot(tid,Cb,'b')                         # Plotter for mengde B\n",
    "plot(tid,Cc,'g')                         # Plotter for mengde C\n",
    "plot(tid,Cd,'m')                         # Plotter for mengde D\n",
    "legend(['$C_A$','$C_B$', '$C_C$','$C_D$'])                  # Setter navn på hver linje i plottet\n",
    "\n",
    "xlabel('Tid (sekunder)')                   # Navn på x-akse\n",
    "ylabel('Konsentrasjon(M)')                 # Navn på y-akse"
   ]
  },
  {
   "cell_type": "markdown",
   "metadata": {},
   "source": [
    "### Oppgave 5\n",
    "\n",
    "**Kjør koden over. Hvorfor ser vi kun to linjer?**"
   ]
  },
  {
   "cell_type": "markdown",
   "metadata": {},
   "source": [
    "### Oppgave 6\n",
    "\n",
    "a)\t**Hva skjer når du prøver forskjellige verdier for $k$? Prøv med verdier mellom $0.1 s^{-1}$ og $10 s^{-1}$. Hvordan endrer plottet seg med de forskjellige hastighetskonstantene.**\n",
    "\n",
    "b)\t**Hva skjer når du velger $k = 5 s^{-1}$ og varierer startkonsentrasjonene av $A$ og $B$? Prøv med $[A] = 1M$ og varier $[B]$ mellom $0.1 M$ og $1 M$. <font color = \"red\">NB! Følg med på skalaen på y-aksen.<font>**\n"
   ]
  },
  {
   "cell_type": "markdown",
   "metadata": {},
   "source": [
    "## Ammoniakk\n",
    "\n",
    "For å lage ammoniakk reageres nitrogengass og hydrogengass ved høyt trykk og temperatur. Reaksjonen er en likevekt gitt ved reaksjonen:\n",
    "\n",
    "$$ N_2 (g)+ 3H_2 (g)  \\leftrightharpoons 2NH_3 (g) $$   \n",
    "\n",
    "For å gjøre det lettere å se spranget fra reaksjonsligningen til differensialligningene som beskriver reaksjonen deler vi likevekten inn i to reaksjoner:\n",
    "\n",
    "$$ N_2 (g) + 3H_2 (g)  \\rightarrow 2NH_3 (g) $$   \n",
    "\n",
    "$$ 2NH_3 (g) \\rightarrow N_2 (g) + 3H_2 (g) $$\n",
    "\n",
    "For å forenkle det hele fortsetter vi å bruke symboler i stedet for å skrive de kjemiske formlene fullt ut. Dette betyr at $N_2 = A$, $H_2 = B$ og $NH_3 = C$, noe som gir:\n",
    "\n",
    "$$ A + 3B \\xrightarrow{k_f}  2C $$ \n",
    "\n",
    "$$ 2C \\xrightarrow{k_r}  A + 3B $$  \n",
    "\n",
    "Hvis du synes det er vanskelig å se sammenhengen mellom reaksjonsligningene og differensialligningene så er du ikke alene! Når reaktantene blir mange (og de kan bli flere) og har koeffisienter på begge sider pilen gjelder det å ha tunga rett i munnen. Heldigvis finnes det kode som hjelper oss med slikt (se f. eks.  https://www.sympy.org/scipy-2017-codegen-tutorial/notebooks/32-chemical-kinetics-symbolic-construction.html\n",
    "om du er nysgjerrig).\n",
    "\n",
    "En nettside som beskriver mer om differensiallikningene for de som er interessert.\n",
    "\n",
    "http://vallance.chem.ox.ac.uk/pdfs/KineticsLectureNotes.pdf\n",
    "\n",
    "Differensialligningene som beskriver endringen i mengden til de forskjellige stoffene i reaksjonen med tiden er gitt ved:\n",
    "\n",
    "$$ \\frac{d[A]}{dt} = -k_f [A] [B]^3 + k_r [C]^2 $$  \n",
    "\n",
    "$$ \\frac{d[B]}{dt} = -k_f 3[A] [B]^3+ k_r 3[C]^2 $$\n",
    "\n",
    "$$ \\frac{d[C]}{dt} = -k_f [A] [B]^3- k_r [C]^2 $$\n"
   ]
  },
  {
   "cell_type": "markdown",
   "metadata": {},
   "source": [
    "### Oppgave 7\n",
    "\n",
    "a) **Forklar hvorfor differensiallikningene vil se slik ut.**\n",
    "\n",
    "b) **Endre koden til å simulere reaksjonen for ammoniakk**\n",
    "\n",
    "<br>\n",
    "<br>\n",
    "<br>\n",
    "\n",
    "Se under for eksempel på kode\n",
    "\n",
    "<br>\n",
    "<br>\n",
    "<br>\n",
    "<br>\n",
    "<br>\n",
    "<br>\n",
    "<br>\n",
    "<br>\n",
    "<br>\n",
    "<br>\n",
    "<br>\n",
    "<br>"
   ]
  },
  {
   "cell_type": "code",
   "execution_count": 9,
   "metadata": {},
   "outputs": [
    {
     "data": {
      "text/plain": [
       "Text(0, 0.5, 'Konsentrasjon(M)')"
      ]
     },
     "execution_count": 9,
     "metadata": {},
     "output_type": "execute_result"
    },
    {
     "data": {
      "image/png": "[encoded data removed]",
      "text/plain": [
       "<Figure size 432x288 with 1 Axes>"
      ]
     },
     "metadata": {
      "needs_background": "light"
     },
     "output_type": "display_data"
    }
   ],
   "source": [
    "kf = 1.0             # Hastighetskonstanten\n",
    "kr = 1.0\n",
    "Ca = [1]             # Start konsentrajsonen til mengde A\n",
    "Cb = [1]             # Start konsentrajsonen til mengde B\n",
    "Cc = [0]             # Start konsentrajsonen til mengde C\n",
    "\n",
    "\n",
    "for i in range(N-1):                                                 # Regner konsentrasjonsendringene\n",
    "    Ca.append(Ca[i] - kf*Ca[i]*Cb[i]**3 *dt + kr*Cc[i]**2 *dt)       # Ny konsentrajson for mengde A\n",
    "    Cb.append(Cb[i] - kf*3*Ca[i]*Cb[i]**3 *dt + kr*3*Cc[i]**2 *dt)   # Ny konsentrajson for mengde B\n",
    "    Cc.append(Cc[i] + kf*Ca[i]*Cb[i]**3 *dt - kr*Cc[i]**2 *dt)       # Ny konsentrajson for mengde C\n",
    "\n",
    "plot(tid,Ca,'r')                         # Plotter for mengde A\n",
    "plot(tid,Cb,'b')                         # Plotter for mengde B\n",
    "plot(tid,Cc,'g')                         # Plotter for mengde C\n",
    "\n",
    "legend(['$C_A$','$C_B$', '$C_C$'])         # Setter navn på hver linje i plottet\n",
    "\n",
    "xlabel('Tid (sekunder)')                   # Navn på x-akse\n",
    "ylabel('Konsentrasjon(M)')                 # Navn på y-akse"
   ]
  },
  {
   "cell_type": "markdown",
   "metadata": {},
   "source": [
    "### Oppgave 8\n",
    "\n",
    "**Kjør koden over for initialkonsentrasjonene** \n",
    "- $N_2 = 1 M$\n",
    "- $H_2 = 5 M$\n",
    "- $kf = 1 M^{-3}s^{-1}$\n",
    "- $kr = 0.01 M^{-1}s^{-1}$."
   ]
  },
  {
   "cell_type": "markdown",
   "metadata": {},
   "source": [
    "### Oppgave 9\n",
    "\n",
    "a)\t**Hva skjer når du bruker de varierer startkonsentrasjonene av $N_2$ og $H_2$? Prøv med $[N2]$ og $[H2]$ mellom $0.1 M$ og $1 M$. <font color = \"red\">NB! Følg med på skalaen på y-aksen.<font>**\n",
    "    \n",
    "b)\t**Hva skjer når du prøver forskjellige verdier for $k_f$ og $k_r$? Prøv med verdier mellom 0.1 og 10. Hvordan endrer plottet seg med de forskjellige hastighetskonstantene?**\n",
    "\n",
    "c)\t**Du vil forbedre prosessen og lager en katalysator som senker $k_r$ 100 ganger relativt til $k_f$. Bruk initiale konsentrasjoner** \n",
    "- $N_2 = 1 M$\n",
    "- $H_2 = 5 M$\n",
    "- $k_f = 1 M^{-3}s^{-1}$\n",
    "- $k_r = 0.01 M^{-1}s^{-1}$ \n",
    "\n",
    "**Får du mer $NH_3$ ut av prosessen? Hvilken parameter vil du endre for å øke mengden $NH_3$ med den nye katalysatoren? Hva var egentlig fordelen med den nye katalysatoren?**\n",
    "\n",
    "<br>\n",
    "<br>\n",
    "<br>\n",
    "<br>\n",
    "<br>\n",
    "\n",
    "Svar: \n",
    "\n",
    "Nei, det blir ikke særlig mye mer $NH_3$, du må øke mengden av $N_2$ for å få mer $NH_3$. Etter at du har økt mengden $N_2$, så vil den nye katalysatoren gjøre at du får mer $NH_3$ fordi den «reverse» reaksjonen er veldig treg.\n"
   ]
  },
  {
   "cell_type": "markdown",
   "metadata": {},
   "source": [
    "For flere eksempler og likninger se linken vi ga over. \n",
    "\n",
    "http://vallance.chem.ox.ac.uk/pdfs/KineticsLectureNotes.pdf\n",
    "\n",
    "Det er mye tungt stoff der, men er en god kilde til forklaringer og inspirasjon."
   ]
  }
 ],
 "metadata": {
  "kernelspec": {
   "display_name": "Python 3 (ipykernel)",
   "language": "python",
   "name": "python3"
  },
  "language_info": {
   "codemirror_mode": {
    "name": "ipython",
    "version": 3
   },
   "file_extension": ".py",
   "mimetype": "text/x-python",
   "name": "python",
   "nbconvert_exporter": "python",
   "pygments_lexer": "ipython3",
   "version": "3.9.7"
  }
 },
 "nbformat": 4,
 "nbformat_minor": 4
}
